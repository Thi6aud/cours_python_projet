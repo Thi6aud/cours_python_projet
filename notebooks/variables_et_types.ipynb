{
 "cells": [
  {
   "cell_type": "markdown",
   "metadata": {},
   "source": [
    "# 🐍 Variables et Types\n",
    "\n",
    "---\n",
    "\n",
    "## 📌 1. Les variables\n",
    "\n",
    "Commen en mathématatiques, on utilise aussi des variables en informatiques. Elles sont utiles pour stocker des informations et s'en servir sur le moment ou bien les garder pour plus tard."
   ]
  },
  {
   "cell_type": "code",
   "execution_count": 26,
   "metadata": {},
   "outputs": [
    {
     "name": "stdout",
     "output_type": "stream",
     "text": [
      "2025\n",
      "5\n",
      "Nous sommes en 2025 !\n"
     ]
    }
   ],
   "source": [
    "# On défini deux variables et on leur donne un nombre\n",
    "une_variable = 2025\n",
    "une_deuxieme_variable = 5\n",
    "\n",
    "# On affiche nos deux variables\n",
    "print(une_variable)\n",
    "print(une_deuxieme_variable)\n",
    "\n",
    "# Si tu veux afficher une variable avec du texte\n",
    "print(\"Nous sommes en\", une_variable, \"!\")"
   ]
  },
  {
   "cell_type": "markdown",
   "metadata": {},
   "source": [
    "## 📌 2. Les opérateurs"
   ]
  },
  {
   "cell_type": "code",
   "execution_count": 56,
   "metadata": {},
   "outputs": [
    {
     "name": "stdout",
     "output_type": "stream",
     "text": [
      "2030\n",
      "2030\n",
      "405\n",
      "10125\n",
      "Salut !\n",
      "Salut !\n",
      "Salut !\n",
      "\n"
     ]
    }
   ],
   "source": [
    "# On défini deux variables et on leur donne un nombre\n",
    "une_variable = 2025\n",
    "une_deuxieme_variable = 5\n",
    "\n",
    "# On peut afficher le résultat d'un calcul en le faisant directement dans print()\n",
    "print(une_variable + une_deuxieme_variable)\n",
    "# Ou bien le faire de facon proprement en stockant le résultat dans une variable\n",
    "somme = une_variable + une_deuxieme_variable\n",
    "print(somme)\n",
    "\n",
    "# On peut faire tout plein de calculs avec différents opérateurs !\n",
    "# Ici une division entiere avec // (ou bien une division standard avec /)\n",
    "division = une_variable // une_deuxieme_variable\n",
    "print(division)\n",
    "# Ici une multiplication avec *\n",
    "multiplication = une_variable * une_deuxieme_variable\n",
    "print(multiplication)\n",
    "\n",
    "# On peut aussi faire des opérations sur du texte !\n",
    "mon_texte = \"Salut !\\n\" # On utilise \\n pour le faire revenir à la ligne\n",
    "print(mon_texte * 3)"
   ]
  },
  {
   "cell_type": "markdown",
   "metadata": {},
   "source": [
    "On peut faire plein de trucs avec ce peu de code !\n",
    "\n",
    "```python\n",
    "print(\"_ o.o _\")\n",
    "print(\"  \\|/  \")\n",
    "print(\"  / \\  \")\n",
    "```\n",
    "```\n",
    "_ o.o _\n",
    "  \\|/  \n",
    "  / \\  \n",
    "\n",
    "```\n",
    "\n",
    "On peut utiliser la multiplication pour en faire toute une file :"
   ]
  },
  {
   "cell_type": "code",
   "execution_count": 57,
   "metadata": {},
   "outputs": [
    {
     "name": "stdout",
     "output_type": "stream",
     "text": [
      "_ o.o __ o.o __ o.o __ o.o __ o.o _\n",
      "  \\|/    \\|/    \\|/    \\|/    \\|/  \n",
      "  / \\    / \\    / \\    / \\    / \\  \n"
     ]
    }
   ],
   "source": [
    "print(5 * \"_ o.o _\")\n",
    "print(5 * \"  \\|/  \")\n",
    "print(5 * \"  / \\  \")"
   ]
  },
  {
   "cell_type": "markdown",
   "metadata": {},
   "source": [
    "Tu peux mettre le nombre de répétition dans une variable pour modifier le tout plus facilement (ici grace à ```nombre_gens```)"
   ]
  },
  {
   "cell_type": "code",
   "execution_count": 60,
   "metadata": {},
   "outputs": [
    {
     "name": "stdout",
     "output_type": "stream",
     "text": [
      "_ o.o __ o.o __ o.o __ o.o __ o.o __ o.o __ o.o __ o.o __ o.o __ o.o _\n",
      "  \\|/    \\|/    \\|/    \\|/    \\|/    \\|/    \\|/    \\|/    \\|/    \\|/  \n",
      "  / \\    / \\    / \\    / \\    / \\    / \\    / \\    / \\    / \\    / \\  \n"
     ]
    }
   ],
   "source": [
    "nombre_gens = 10\n",
    "print(nombre_gens * \"_ o.o _\")\n",
    "print(nombre_gens * \"  \\|/  \")\n",
    "print(nombre_gens * \"  / \\  \")"
   ]
  },
  {
   "cell_type": "markdown",
   "metadata": {},
   "source": [
    "En Python comme dans les autres langages il existe un grand nombre d'opérateurs comme présentés dans le tableaux :\n",
    "\n",
    "| Opérateur | Description | Exemple |\n",
    "|-----------|-------------|---------|\n",
    "| `+`  | Addition | `5 + 3` → `8` |\n",
    "| `-`  | Soustraction | `5 - 3` → `2` |\n",
    "| `*`  | Multiplication | `5 * 3` → `15` |\n",
    "| `/`  | Division (résultat flottant) | `5 / 2` → `2.5` |\n",
    "| `//` | Division entière | `5 // 2` → `2` |\n",
    "| `%`  | Modulo (reste de division) | `5 % 2` → `1` |\n",
    "| `**` | Puissance | `2 ** 3` → `8` |\n",
    "| `==` | Égal à | `5 == 3` → `False` |\n",
    "| `!=` | Différent de | `5 != 3` → `True` |\n",
    "| `>`  | Supérieur à | `5 > 3` → `True` |\n",
    "| `<`  | Inférieur à | `5 < 3` → `False` |\n",
    "| `>=` | Supérieur ou égal à | `5 >= 3` → `True` |\n",
    "| `<=` | Inférieur ou égal à | `5 <= 3` → `False` |\n",
    "\n",
    "Il existe encore d'autres opérateurs comme les opérateurs logiques, d'affectation, d'appartenance... que l'on verra plus tard dans ce cours !"
   ]
  },
  {
   "cell_type": "markdown",
   "metadata": {},
   "source": [
    "## 📌 3. Typage statique et dynamique\n",
    "\n",
    "En Python, les variables ne sont pas \"statiquement typées\", ce qui veut dire qu'on n'a pas besoin de déclarer le type de notre variable pour pouvoir l'utiliser. Cela diffère de Java par exemple, qui est un langage statiquement typé.\n",
    "\n",
    "```python\n",
    "# Python : on associe simplement la valeur 5 à la variable x\n",
    "x = 5\n",
    "```\n",
    "```java\n",
    "// Java : on type y avec int et ensuite on lui associe la valeur 5\n",
    "int y = 5;\n",
    "```\n",
    "\n",
    "En Java une variable ne peut contenir que des données du types qui lui est atribué, par exemple une variable de texte ne pourra pas contenir de nombres :\n",
    "```java\n",
    "int y = 5;\n",
    "y = \"texte\";\n",
    "\n",
    "ERROR!\n",
    "/tmp/K3ST2hFF9I/Main.java:7: error: incompatible types: String cannot be converted to int\n",
    "        y = \"texte\";\n",
    "            ^\n",
    "1 error\n",
    "=== Code Exited With Errors ===\n",
    "```\n",
    "\n",
    "Ici, le problème est que Java ne peut pas convertir le type String (texte) en type int (entier) cela cause donc une erreur.\n",
    "\n",
    "Bonne nouvelle, avec python pas besoin de s'inquiéter du changement de type ! On va utiliser la fonction print() pour afficher nos variables :"
   ]
  },
  {
   "cell_type": "code",
   "execution_count": 13,
   "metadata": {},
   "outputs": [
    {
     "name": "stdout",
     "output_type": "stream",
     "text": [
      "10\n",
      "Salut !\n"
     ]
    }
   ],
   "source": [
    "# On déclare x avec un entier puis on l'affiche\n",
    "x = 10\n",
    "print(x)\n",
    "\n",
    "# On change la valeur dans x par une chaine de caractères et on l'affiche\n",
    "x = \"Salut !\"\n",
    "print(x)"
   ]
  },
  {
   "cell_type": "markdown",
   "metadata": {},
   "source": [
    "## 📌 4. Pourquoi utiliser un typage ou un autre ?\n",
    "\n",
    "Aucun problème avec le changement de types sur Python, on pourrait alors se demander l'interêt d'avoir un langage statiquement typés car pourquoi est-ce que l'on continuerai de s'embeter avec ces histoires de types si on peut faire sans ?\n",
    "\n",
    "| Critère             | Statiquement Typés | Dynamiquement Typés |\n",
    "|---------------------|---------------------------|------------------------------|\n",
    "| **Définition**      | Le type des variables est défini à la compilation et ne peut pas changer | Le type des variables est déterminé à l'exécution |\n",
    "| **Exemples**        | C, C++, Java, Rust, TypeScript, Go | Python, JavaScript, Ruby, PHP, Lisp |\n",
    "| **Sécurité des types** | Plus sécurisé, détecte les erreurs à la compilation | Moins sécurisé, erreurs de type possibles à l'exécution |\n",
    "| **Performance**     | Meilleure, car optimisée par le compilateur | Moins performante, car nécessite des vérifications à l'exécution |\n",
    "| **Flexibilité**     | Moins flexible, nécessite des déclarations précises | Plus flexible, facilite le prototypage rapide |\n",
    "| **Débogage**        | Moins d'erreurs à l'exécution, mais messages de compilation stricts | Erreurs découvertes à l'exécution, peut être plus difficile à déboguer |\n",
    "| **Courbe d'apprentissage** | Peut être plus difficile à apprendre au début | Plus accessible aux débutants |\n",
    "| **Utilisation typique** | Systèmes critiques, logiciels complexes, performance-intensive | Développement rapide, scripts, applications web |\n",
    "\n",
    "Comme on peut le voir ci-dessus les 2 on leurs avantages et inconvénients, dans notre cas c'est notamment la simplicité qui nous intéresse avec Python, cela nous permet ainsi d'apprendre les bases de l'informatique sans être ralentit par la syntaxe spécifique au langage.\n",
    "\n",
    "## 📌 5. Quelques types que l'on pourra rencontrer\n",
    "\n",
    "Il existe plusieurs types de données en informatique, voilà un exemple de quelques types qu'on sera peut-etre amené à rencontrer durant ce cours.\n",
    "\n",
    "| Type de Donnée   | Nom en Python   | Description | Exemple |\n",
    "|------------------|---------------|-------------|---------|\n",
    "| **Entier**       | `int`         | Nombre entier | `42`, `-7`, `0` |\n",
    "| **Flottant**     | `float`       | Nombre à virgule | `3.14`, `-0.001`, `2.0` |\n",
    "| **Booléen**      | `bool`        | Valeur de vérité | `True`, `False` |\n",
    "| **Chaîne**       | `str`         | Suite de caractères | `\"Hello\"`, `'Python'` |\n",
    "| **Liste**        | `list`        | Collection ordonnée et modifiable | `[1, 2, 3]`, `[\"a\", \"b\"]` |\n",
    "| **Tuple**        | `tuple`       | Collection ordonnée et immuable | `(1, 2, 3)`, `(\"a\", \"b\")` |\n",
    "| **Ensemble**     | `set`         | Collection non ordonnée, unique | `{1, 2, 3}`, `{\"a\", \"b\"}` |\n",
    "| **Dictionnaire** | `dict`        | Collection clé-valeur | `{\"nom\": \"Alice\", \"age\": 25}` |\n",
    "| **None**         | `NoneType`    | Représente l'absence de valeur | `None` |\n",
    "| **Objet**        | `object`      | Tout élément en Python est un objet | `MyClass()`, `some_function` |"
   ]
  },
  {
   "cell_type": "markdown",
   "metadata": {},
   "source": [
    "## 📌 6. Faire une fiche d'identité\n",
    "\n",
    "Imagine que tu fais passer une expérience visuelle à des sujets et on a besoin d'un programme qui permet de stocker des informations pour ensuite afficher l'identité du sujet comme cela (il y a 50 tirets avant et après la fiche):\n",
    "\n",
    "```\n",
    "--------------------------------------------------\n",
    "Prenom : Marcel\n",
    "Nom : Duboix\n",
    "Age : 20 ans\n",
    "Le patient s'appelle Marcel Duboix, il a 20 ans.\n",
    "--------------------------------------------------\n",
    "```"
   ]
  },
  {
   "cell_type": "code",
   "execution_count": 63,
   "metadata": {},
   "outputs": [
    {
     "name": "stdout",
     "output_type": "stream",
     "text": [
      "-\n",
      "\n",
      "\n",
      "\n",
      "\n",
      "-\n"
     ]
    }
   ],
   "source": [
    "# Variables à utiliser\n",
    "prenom = \"Marcel\"\n",
    "nom = \"Duboix\"\n",
    "age = 20\n",
    "tirets = (\"-\") # à compléter\n",
    "\n",
    "# Print() à remplir pour afficher l'identité du sujet\n",
    "print(tirets)\n",
    "print()\n",
    "print()\n",
    "print()\n",
    "print()\n",
    "print(tirets)"
   ]
  }
 ],
 "metadata": {
  "kernelspec": {
   "display_name": "Python 3",
   "language": "python",
   "name": "python3"
  },
  "language_info": {
   "codemirror_mode": {
    "name": "ipython",
    "version": 3
   },
   "file_extension": ".py",
   "mimetype": "text/x-python",
   "name": "python",
   "nbconvert_exporter": "python",
   "pygments_lexer": "ipython3",
   "version": "3.10.7"
  }
 },
 "nbformat": 4,
 "nbformat_minor": 2
}
