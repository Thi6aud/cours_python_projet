{
 "cells": [
  {
   "cell_type": "markdown",
   "metadata": {},
   "source": [
    "# 🐍 Cours 2 : Les objets en Python\n",
    "\n",
    "---\n",
    "## 📌 1. Introduction aux objets\n",
    "\n",
    "En Python, tout est objet. Un **objet** est une **instance d'une classe**, et il est manipulé via des **références**. \n",
    "Contrairement à d'autres langages comme Java, Python ne nécessite pas l'utilisation de **new** pour instancier un objet !\n",
    "\n",
    "\n"
   ]
  },
  {
   "cell_type": "code",
   "execution_count": 2,
   "metadata": {},
   "outputs": [
    {
     "name": "stdout",
     "output_type": "stream",
     "text": [
      "Licence MIASHS\n"
     ]
    }
   ],
   "source": [
    "# Exemple de création d'un objet en Python\n",
    "s = \"Licence MIASHS\"  \n",
    "print(s)"
   ]
  },
  {
   "cell_type": "markdown",
   "metadata": {},
   "source": [
    "👉 Ici, s est une référence qui pointe vers un objet de type str (chaîne de caractères).\n",
    "\n",
    "## 📌 2. Les références en Python\n",
    "\n",
    "Les objets sont manipulés via des références. Une **référence** est comme un pointeur vers un **objet en mémoire**."
   ]
  },
  {
   "cell_type": "code",
   "execution_count": null,
   "metadata": {},
   "outputs": [],
   "source": [
    "# Exemple de référence\n",
    "s = \"Licence MIASHS\"  # 's' référence un objet de type str\n",
    "t = s  # 't' référence le même objet que 's'\n",
    "print(t)"
   ]
  },
  {
   "cell_type": "markdown",
   "metadata": {},
   "source": [
    "\n",
    "👉 Ici, t et s pointent vers le même objet en mémoire.\n",
    "\n",
    "## 📌 3. La création d'objets\n",
    "\n",
    "En Python, les objets sont créés dynamiquement. On peut utiliser des **constructeurs** ou des **littéraux** pour créer des objets."
   ]
  },
  {
   "cell_type": "code",
   "execution_count": null,
   "metadata": {},
   "outputs": [],
   "source": [
    "# Création d'objets avec des littéraux\n",
    "i = 3  # 'i' est un objet de type int\n",
    "f = 3.14  # 'f' est un objet de type float\n",
    "b = True  # 'b' est un objet de type bool\n",
    "\n",
    "print(i, f, b)"
   ]
  },
  {
   "cell_type": "markdown",
   "metadata": {},
   "source": [
    "👉 Les types de base comme int, float, et bool sont déjà des objets en Python.\n",
    "\n",
    "## 📌 4. Conversion de types\n",
    "\n",
    "Python permet des conversions de types, à la fois **explicites** (restrictive) et **implicites** (élargissante)"
   ]
  },
  {
   "cell_type": "code",
   "execution_count": null,
   "metadata": {},
   "outputs": [],
   "source": [
    "# Conversion explicite (cast)\n",
    "d = 1.7\n",
    "i = int(d)  # Conversion de float en int (troncature)\n",
    "print(i)"
   ]
  },
  {
   "cell_type": "code",
   "execution_count": null,
   "metadata": {},
   "outputs": [],
   "source": [
    "# Conversion implicite\n",
    "x = 10  # int\n",
    "y = 3.14  # float\n",
    "z = x + y  # Conversion implicite de int vers float\n",
    "print(z)"
   ]
  },
  {
   "cell_type": "markdown",
   "metadata": {},
   "source": [
    "👉 Python effectue **automatiquement** certaines conversions, comme lors de l'addition d'un int et d'un float.\n",
    "\n",
    "## 📌 5. Portée des variables\n",
    "\n",
    "La **portée** d'une variable détermine sa visibilité et sa durée de vie. En Python, la portée est définie par les blocs de code."
   ]
  },
  {
   "cell_type": "code",
   "execution_count": null,
   "metadata": {},
   "outputs": [],
   "source": [
    "# Exemple de portée locale\n",
    "def ma_fonction():\n",
    "    i = 3  # 'i' est visible uniquement dans ma_fonction\n",
    "    if i > 0:\n",
    "        j = 4  # 'j' est visible uniquement dans ce bloc if\n",
    "    # 'j' n'est plus visible ici\n",
    "# 'i' n'est plus visible ici\n",
    "\n",
    "ma_fonction()"
   ]
  },
  {
   "cell_type": "markdown",
   "metadata": {},
   "source": [
    "👉 Les variables locales ne sont accessibles que dans le bloc où elles sont définies.\n",
    "\n",
    "## 📌 6. Portée globale vs locale\n",
    "\n",
    "Une variable **globale** est accessible partout dans le programme, tandis qu'une variable **locale** est limitée à un bloc spécifique."
   ]
  },
  {
   "cell_type": "code",
   "execution_count": null,
   "metadata": {},
   "outputs": [],
   "source": [
    "# Exemple de portée globale\n",
    "a = 2  # Variable globale\n",
    "\n",
    "def test():\n",
    "    print(\"Intérieur de test\", a)\n",
    "\n",
    "test()\n",
    "print(\"Après test\", a)"
   ]
  },
  {
   "cell_type": "code",
   "execution_count": null,
   "metadata": {},
   "outputs": [],
   "source": [
    "# Exemple de portée locale\n",
    "a = 2  # Variable globale\n",
    "\n",
    "def test():\n",
    "    a = 3  # Variable locale\n",
    "    print(\"Intérieur de test\", a)\n",
    "\n",
    "test()\n",
    "print(\"Après test\", a)"
   ]
  },
  {
   "cell_type": "markdown",
   "metadata": {},
   "source": [
    "👉 Une variable locale dans une fonction ne modifie pas la variable globale du même nom.\n",
    "\n",
    "Le mot-clé **global** permet de modifier une variable globale à l'intérieur d'une fonction.\n",
    "\n",
    "Que va afficher le programme suivant ? "
   ]
  },
  {
   "cell_type": "code",
   "execution_count": null,
   "metadata": {},
   "outputs": [
    {
     "name": "stdout",
     "output_type": "stream",
     "text": [
      "Intérieur de test 3\n",
      "3\n"
     ]
    }
   ],
   "source": [
    "# Exemple d'utilisation de global\n",
    "a = 2  # Variable globale\n",
    "\n",
    "def test():\n",
    "    global a  # On utilise la variable globale 'a'\n",
    "    a = 3  # Modification de la variable globale\n",
    "    print(\"Intérieur de test\", a)\n",
    "\n",
    "test()\n",
    "print(\"Après test\",a)"
   ]
  },
  {
   "cell_type": "markdown",
   "metadata": {},
   "source": [
    "👉 Avec **global**, la modification de a à l'intérieur de la fonction affecte également la variable globale.\n",
    "\n",
    "## 📌 8. Les attributs d'un objet\n",
    "Les objets en Python peuvent avoir des **attributs**, qui sont des variables associées à l'objet. Ces attributs peuvent être en **lecture seule** ou **modifiables**."
   ]
  },
  {
   "cell_type": "code",
   "execution_count": null,
   "metadata": {},
   "outputs": [],
   "source": [
    "# Exemple d'attributs\n",
    "z = 3 + 4j  # 'z' est un objet de type complex\n",
    "print(z.real)  # Accès à l'attribut 'real'\n",
    "print(z.imag)  # Accès à l'attribut 'imag'"
   ]
  },
  {
   "cell_type": "markdown",
   "metadata": {},
   "source": [
    "## 📌 9. Les méthodes d'un objet\n",
    "Les objets en Python peuvent également avoir des **méthodes**, qui sont des fonctions associées à l'objet."
   ]
  },
  {
   "cell_type": "code",
   "execution_count": 3,
   "metadata": {},
   "outputs": [
    {
     "name": "stdout",
     "output_type": "stream",
     "text": [
      "hello world\n",
      "12345\n"
     ]
    }
   ],
   "source": [
    "# Exemple de méthode\n",
    "class MyClass:\n",
    "    \"\"\"Une classe simple\"\"\"\n",
    "    i = 12345  # Attribut de classe\n",
    "\n",
    "    def f(self):\n",
    "        return 'hello world'  # Méthode de classe\n",
    "\n",
    "obj = MyClass()  # Création d'un objet de type MyClass\n",
    "print(obj.f())  # Appel de la méthode 'f'\n",
    "print(obj.i)  # Appel de l'entier 'i'"
   ]
  },
  {
   "cell_type": "markdown",
   "metadata": {},
   "source": [
    "## 📌 10. Le ramasse-miettes (Garbage Collector)\n",
    "En Python, la gestion de la mémoire est **automatique** grâce au **ramasse-miettes** (garbage collector). Vous n'avez pas besoin de détruire manuellement les objets."
   ]
  },
  {
   "cell_type": "code",
   "execution_count": 4,
   "metadata": {},
   "outputs": [
    {
     "ename": "NameError",
     "evalue": "name 's' is not defined",
     "output_type": "error",
     "traceback": [
      "\u001b[0;31m---------------------------------------------------------------------------\u001b[0m",
      "\u001b[0;31mNameError\u001b[0m                                 Traceback (most recent call last)",
      "Cell \u001b[0;32mIn[4], line 4\u001b[0m\n\u001b[1;32m      2\u001b[0m s \u001b[38;5;241m=\u001b[39m \u001b[38;5;124m\"\u001b[39m\u001b[38;5;124mLicence MIASHS\u001b[39m\u001b[38;5;124m\"\u001b[39m\n\u001b[1;32m      3\u001b[0m \u001b[38;5;28;01mdel\u001b[39;00m s  \u001b[38;5;66;03m# L'objet référencé par 's' est supprimé de la mémoire\u001b[39;00m\n\u001b[0;32m----> 4\u001b[0m \u001b[38;5;28mprint\u001b[39m(\u001b[43ms\u001b[49m) \u001b[38;5;66;03m# Erreur !\u001b[39;00m\n",
      "\u001b[0;31mNameError\u001b[0m: name 's' is not defined"
     ]
    }
   ],
   "source": [
    "# Exemple de gestion automatique de la mémoire\n",
    "s = \"Licence MIASHS\"\n",
    "del s  # L'objet référencé par 's' est supprimé de la mémoire\n",
    "print(s) # Erreur !"
   ]
  }
 ],
 "metadata": {
  "kernelspec": {
   "display_name": "Python 3",
   "language": "python",
   "name": "python3"
  },
  "language_info": {
   "codemirror_mode": {
    "name": "ipython",
    "version": 3
   },
   "file_extension": ".py",
   "mimetype": "text/x-python",
   "name": "python",
   "nbconvert_exporter": "python",
   "pygments_lexer": "ipython3",
   "version": "3.12.3"
  }
 },
 "nbformat": 4,
 "nbformat_minor": 2
}
